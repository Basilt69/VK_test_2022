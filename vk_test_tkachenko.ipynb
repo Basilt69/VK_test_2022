{
 "cells": [
  {
   "cell_type": "code",
   "execution_count": 1,
   "id": "85c9bd18",
   "metadata": {},
   "outputs": [
    {
     "name": "stdout",
     "output_type": "stream",
     "text": [
      "Requirement already satisfied: gower in c:\\users\\user\\anaconda3\\lib\\site-packages (0.0.5)\n",
      "Requirement already satisfied: scipy in c:\\users\\user\\anaconda3\\lib\\site-packages (from gower) (1.6.2)\n",
      "Requirement already satisfied: numpy in c:\\users\\user\\anaconda3\\lib\\site-packages (from gower) (1.20.1)\n",
      "Note: you may need to restart the kernel to use updated packages.\n"
     ]
    }
   ],
   "source": [
    "pip install gower"
   ]
  },
  {
   "cell_type": "markdown",
   "id": "2076c7f1",
   "metadata": {},
   "source": [
    "<div style=\"font-size: 25px\">\n",
    "    \n",
    "**Задание №1 - Запрос PostrgreSQL:**"
   ]
  },
  {
   "cell_type": "markdown",
   "id": "a009e7ca",
   "metadata": {},
   "source": [
    "`\n",
    "SELECT sel.install_date, sel.final_date, MAX(sel.payments_sum) AS payments_sum\n",
    "FROM (SELECT (i.date::date) AS install_date,\n",
    "       p.date::date AS final_date,\n",
    "       SUM(p.payment) over (partition by i.date::date order by p.date::date\n",
    "       rows between unbounded preceding and current row) AS payments_sum\n",
    "FROM installs AS i\n",
    "INNER JOIN payments AS p ON i.player_id = p.player_id\n",
    "WHERE i.date BETWEEN '2019-09-01' AND '2019-09-30'\n",
    "GROUP BY i.date,p.date, p.payment\n",
    "ORDER BY install_date, final_date) AS sel\n",
    "GROUP BY sel.final_date, sel.install_date\n",
    "ORDER BY sel.install_date, sel.final_date;`"
   ]
  },
  {
   "cell_type": "markdown",
   "id": "d83a7593",
   "metadata": {},
   "source": [
    "<div style=\"font-size: 25px\">\n",
    "    \n",
    "**Задание №2 - Оценка продолжительности сессии после изменения баланса оружия:**\n"
   ]
  },
  {
   "cell_type": "markdown",
   "id": "00a1be73",
   "metadata": {},
   "source": [
    "<div style=\"font-size: 20px\">\n",
    "    \n",
    "**1. Загрузка данных и предварительный осмотр**"
   ]
  },
  {
   "cell_type": "code",
   "execution_count": 2,
   "id": "e8d80853",
   "metadata": {},
   "outputs": [],
   "source": [
    "# Загрузим необходимые для дальнейшего анализа библиотеки\n",
    "import pandas as pd\n",
    "import numpy as np\n",
    "import matplotlib.pyplot as plt\n",
    "import seaborn as sns\n",
    "import warnings\n",
    "import gower\n",
    "from sklearn.cluster import KMeans\n",
    "\n",
    "warnings.filterwarnings(\"ignore\", category=RuntimeWarning)"
   ]
  },
  {
   "cell_type": "code",
   "execution_count": 3,
   "id": "1467f622",
   "metadata": {},
   "outputs": [],
   "source": [
    "# Загрузим файл и изменим кодировку для корректного отбражения с использованием pandas\n",
    "df = pd.read_csv('data_test.csv',engine=\"python\", encoding=\"cp1251\")"
   ]
  },
  {
   "cell_type": "code",
   "execution_count": 4,
   "id": "71c4a804",
   "metadata": {},
   "outputs": [
    {
     "name": "stdout",
     "output_type": "stream",
     "text": [
      "<class 'pandas.core.frame.DataFrame'>\n",
      "RangeIndex: 20000 entries, 0 to 19999\n",
      "Data columns (total 7 columns):\n",
      " #   Column        Non-Null Count  Dtype  \n",
      "---  ------        --------------  -----  \n",
      " 0   battle_id     20000 non-null  int64  \n",
      " 1   unit_1        20000 non-null  object \n",
      " 2   unit_2        20000 non-null  object \n",
      " 3   unit_3        20000 non-null  object \n",
      " 4   unit_4        20000 non-null  object \n",
      " 5   len           20000 non-null  float64\n",
      " 6   balance_mark  20000 non-null  object \n",
      "dtypes: float64(1), int64(1), object(5)\n",
      "memory usage: 1.1+ MB\n"
     ]
    }
   ],
   "source": [
    "df.info()"
   ]
  },
  {
   "cell_type": "markdown",
   "id": "7ae1ceb4",
   "metadata": {},
   "source": [
    "Проведем осмотр данных на предмет наличия пропусков, полных дубликатов, обпечаток. В осмотре учтём наличие деления на две группы: до и после изменения баланса оружия(before и after)."
   ]
  },
  {
   "cell_type": "code",
   "execution_count": 5,
   "id": "c3486a81",
   "metadata": {},
   "outputs": [
    {
     "data": {
      "text/plain": [
       "before    10000\n",
       "after     10000\n",
       "Name: balance_mark, dtype: int64"
      ]
     },
     "execution_count": 5,
     "metadata": {},
     "output_type": "execute_result"
    }
   ],
   "source": [
    "# Проверим деление данных на 2 группы (до и после изменений)\n",
    "df.balance_mark.value_counts()"
   ]
  },
  {
   "cell_type": "code",
   "execution_count": 6,
   "id": "e22c1b95",
   "metadata": {},
   "outputs": [],
   "source": [
    "# Выделим данные до и после изменения баланса\n",
    "temp_a = df.query(\"balance_mark == 'before'\")\n",
    "temp_b = df.query(\"balance_mark == 'after'\")"
   ]
  },
  {
   "cell_type": "code",
   "execution_count": 7,
   "id": "f04fa26b",
   "metadata": {},
   "outputs": [],
   "source": [
    "# Исследуем данные на наличие пропусков\n",
    "def explore_data(data):\n",
    "    print(f'Общая информация о датафрейме:')\n",
    "    print()\n",
    "    display(data.info())\n",
    "    print()\n",
    "    print(f'В датафрейме {data.duplicated().sum()} полных дупликатов, что составляет- {data.duplicated().sum() / len(data)}%.')\n",
    "    print()\n",
    "    print(f\"Рассмотрим первые 5 строк датафрейма:\")\n",
    "    print()\n",
    "    display(data.head())\n",
    "    print()\n",
    "    print(f'Рассмотрим последние 5 строк датафрейма:')\n",
    "    display(data.tail())\n",
    "    print()\n",
    "    print(f\"Рассмотрим выборочно 5 строк:\")\n",
    "    print()\n",
    "    display(data.sample(5))\n",
    "    print()\n",
    "    expl_column = {'unit_1':data.unit_1,'unit_2':data.unit_2, 'unit_3':data.unit_3}\n",
    "    for key,column in expl_column.items():\n",
    "        print(f'Уникальные значения колонки по каждой из позиций {key}:\\n{column.value_counts()}')\n",
    "        sns.histplot(data=data, x=data[key], color='purple')\n",
    "        plt.show()\n",
    "    print()\n",
    "    print('--------------------------------------------------------------------------------')\n",
    "    print('********************************************************************************')\n",
    "    print('--------------------------------------------------------------------------------')\n",
    "    print()"
   ]
  },
  {
   "cell_type": "markdown",
   "id": "7a77badb",
   "metadata": {},
   "source": [
    "**Предварительный осмотр данных до внесения изменений**:"
   ]
  },
  {
   "cell_type": "code",
   "execution_count": 8,
   "id": "126ade15",
   "metadata": {},
   "outputs": [
    {
     "name": "stdout",
     "output_type": "stream",
     "text": [
      "Общая информация о датафрейме:\n",
      "\n",
      "<class 'pandas.core.frame.DataFrame'>\n",
      "Int64Index: 10000 entries, 0 to 9999\n",
      "Data columns (total 7 columns):\n",
      " #   Column        Non-Null Count  Dtype  \n",
      "---  ------        --------------  -----  \n",
      " 0   battle_id     10000 non-null  int64  \n",
      " 1   unit_1        10000 non-null  object \n",
      " 2   unit_2        10000 non-null  object \n",
      " 3   unit_3        10000 non-null  object \n",
      " 4   unit_4        10000 non-null  object \n",
      " 5   len           10000 non-null  float64\n",
      " 6   balance_mark  10000 non-null  object \n",
      "dtypes: float64(1), int64(1), object(5)\n",
      "memory usage: 625.0+ KB\n"
     ]
    },
    {
     "data": {
      "text/plain": [
       "None"
      ]
     },
     "metadata": {},
     "output_type": "display_data"
    },
    {
     "name": "stdout",
     "output_type": "stream",
     "text": [
      "\n",
      "В датафрейме 0 полных дупликатов, что составляет- 0.0%.\n",
      "\n",
      "Рассмотрим первые 5 строк датафрейма:\n",
      "\n"
     ]
    },
    {
     "data": {
      "text/html": [
       "<div>\n",
       "<style scoped>\n",
       "    .dataframe tbody tr th:only-of-type {\n",
       "        vertical-align: middle;\n",
       "    }\n",
       "\n",
       "    .dataframe tbody tr th {\n",
       "        vertical-align: top;\n",
       "    }\n",
       "\n",
       "    .dataframe thead th {\n",
       "        text-align: right;\n",
       "    }\n",
       "</style>\n",
       "<table border=\"1\" class=\"dataframe\">\n",
       "  <thead>\n",
       "    <tr style=\"text-align: right;\">\n",
       "      <th></th>\n",
       "      <th>battle_id</th>\n",
       "      <th>unit_1</th>\n",
       "      <th>unit_2</th>\n",
       "      <th>unit_3</th>\n",
       "      <th>unit_4</th>\n",
       "      <th>len</th>\n",
       "      <th>balance_mark</th>\n",
       "    </tr>\n",
       "  </thead>\n",
       "  <tbody>\n",
       "    <tr>\n",
       "      <th>0</th>\n",
       "      <td>103921</td>\n",
       "      <td>топор</td>\n",
       "      <td>лук</td>\n",
       "      <td>булава</td>\n",
       "      <td>лук</td>\n",
       "      <td>17.35</td>\n",
       "      <td>before</td>\n",
       "    </tr>\n",
       "    <tr>\n",
       "      <th>1</th>\n",
       "      <td>117214</td>\n",
       "      <td>посох</td>\n",
       "      <td>посох</td>\n",
       "      <td>лук</td>\n",
       "      <td>лук</td>\n",
       "      <td>21.84</td>\n",
       "      <td>before</td>\n",
       "    </tr>\n",
       "    <tr>\n",
       "      <th>2</th>\n",
       "      <td>115502</td>\n",
       "      <td>меч</td>\n",
       "      <td>посох</td>\n",
       "      <td>булава</td>\n",
       "      <td>топор</td>\n",
       "      <td>16.00</td>\n",
       "      <td>before</td>\n",
       "    </tr>\n",
       "    <tr>\n",
       "      <th>3</th>\n",
       "      <td>110102</td>\n",
       "      <td>булава</td>\n",
       "      <td>лук</td>\n",
       "      <td>лук</td>\n",
       "      <td>булава</td>\n",
       "      <td>17.22</td>\n",
       "      <td>before</td>\n",
       "    </tr>\n",
       "    <tr>\n",
       "      <th>4</th>\n",
       "      <td>104989</td>\n",
       "      <td>меч</td>\n",
       "      <td>посох</td>\n",
       "      <td>булава</td>\n",
       "      <td>посох</td>\n",
       "      <td>19.20</td>\n",
       "      <td>before</td>\n",
       "    </tr>\n",
       "  </tbody>\n",
       "</table>\n",
       "</div>"
      ],
      "text/plain": [
       "   battle_id  unit_1 unit_2  unit_3  unit_4    len balance_mark\n",
       "0     103921   топор    лук  булава     лук  17.35       before\n",
       "1     117214   посох  посох     лук     лук  21.84       before\n",
       "2     115502     меч  посох  булава   топор  16.00       before\n",
       "3     110102  булава    лук     лук  булава  17.22       before\n",
       "4     104989     меч  посох  булава   посох  19.20       before"
      ]
     },
     "metadata": {},
     "output_type": "display_data"
    },
    {
     "name": "stdout",
     "output_type": "stream",
     "text": [
      "\n",
      "Рассмотрим последние 5 строк датафрейма:\n"
     ]
    },
    {
     "data": {
      "text/html": [
       "<div>\n",
       "<style scoped>\n",
       "    .dataframe tbody tr th:only-of-type {\n",
       "        vertical-align: middle;\n",
       "    }\n",
       "\n",
       "    .dataframe tbody tr th {\n",
       "        vertical-align: top;\n",
       "    }\n",
       "\n",
       "    .dataframe thead th {\n",
       "        text-align: right;\n",
       "    }\n",
       "</style>\n",
       "<table border=\"1\" class=\"dataframe\">\n",
       "  <thead>\n",
       "    <tr style=\"text-align: right;\">\n",
       "      <th></th>\n",
       "      <th>battle_id</th>\n",
       "      <th>unit_1</th>\n",
       "      <th>unit_2</th>\n",
       "      <th>unit_3</th>\n",
       "      <th>unit_4</th>\n",
       "      <th>len</th>\n",
       "      <th>balance_mark</th>\n",
       "    </tr>\n",
       "  </thead>\n",
       "  <tbody>\n",
       "    <tr>\n",
       "      <th>9995</th>\n",
       "      <td>110026</td>\n",
       "      <td>посох</td>\n",
       "      <td>лук</td>\n",
       "      <td>лук</td>\n",
       "      <td>булава</td>\n",
       "      <td>17.88</td>\n",
       "      <td>before</td>\n",
       "    </tr>\n",
       "    <tr>\n",
       "      <th>9996</th>\n",
       "      <td>113821</td>\n",
       "      <td>топор</td>\n",
       "      <td>лук</td>\n",
       "      <td>посох</td>\n",
       "      <td>лук</td>\n",
       "      <td>16.26</td>\n",
       "      <td>before</td>\n",
       "    </tr>\n",
       "    <tr>\n",
       "      <th>9997</th>\n",
       "      <td>105155</td>\n",
       "      <td>меч</td>\n",
       "      <td>лук</td>\n",
       "      <td>посох</td>\n",
       "      <td>меч</td>\n",
       "      <td>20.58</td>\n",
       "      <td>before</td>\n",
       "    </tr>\n",
       "    <tr>\n",
       "      <th>9998</th>\n",
       "      <td>104050</td>\n",
       "      <td>лук</td>\n",
       "      <td>меч</td>\n",
       "      <td>булава</td>\n",
       "      <td>посох</td>\n",
       "      <td>20.08</td>\n",
       "      <td>before</td>\n",
       "    </tr>\n",
       "    <tr>\n",
       "      <th>9999</th>\n",
       "      <td>104272</td>\n",
       "      <td>лук</td>\n",
       "      <td>посох</td>\n",
       "      <td>лук</td>\n",
       "      <td>булава</td>\n",
       "      <td>17.40</td>\n",
       "      <td>before</td>\n",
       "    </tr>\n",
       "  </tbody>\n",
       "</table>\n",
       "</div>"
      ],
      "text/plain": [
       "      battle_id unit_1 unit_2  unit_3  unit_4    len balance_mark\n",
       "9995     110026  посох    лук     лук  булава  17.88       before\n",
       "9996     113821  топор    лук   посох     лук  16.26       before\n",
       "9997     105155    меч    лук   посох     меч  20.58       before\n",
       "9998     104050    лук    меч  булава   посох  20.08       before\n",
       "9999     104272    лук  посох     лук  булава  17.40       before"
      ]
     },
     "metadata": {},
     "output_type": "display_data"
    },
    {
     "name": "stdout",
     "output_type": "stream",
     "text": [
      "\n",
      "Рассмотрим выборочно 5 строк:\n",
      "\n"
     ]
    },
    {
     "data": {
      "text/html": [
       "<div>\n",
       "<style scoped>\n",
       "    .dataframe tbody tr th:only-of-type {\n",
       "        vertical-align: middle;\n",
       "    }\n",
       "\n",
       "    .dataframe tbody tr th {\n",
       "        vertical-align: top;\n",
       "    }\n",
       "\n",
       "    .dataframe thead th {\n",
       "        text-align: right;\n",
       "    }\n",
       "</style>\n",
       "<table border=\"1\" class=\"dataframe\">\n",
       "  <thead>\n",
       "    <tr style=\"text-align: right;\">\n",
       "      <th></th>\n",
       "      <th>battle_id</th>\n",
       "      <th>unit_1</th>\n",
       "      <th>unit_2</th>\n",
       "      <th>unit_3</th>\n",
       "      <th>unit_4</th>\n",
       "      <th>len</th>\n",
       "      <th>balance_mark</th>\n",
       "    </tr>\n",
       "  </thead>\n",
       "  <tbody>\n",
       "    <tr>\n",
       "      <th>2532</th>\n",
       "      <td>106850</td>\n",
       "      <td>меч</td>\n",
       "      <td>булава</td>\n",
       "      <td>лук</td>\n",
       "      <td>булава</td>\n",
       "      <td>24.82</td>\n",
       "      <td>before</td>\n",
       "    </tr>\n",
       "    <tr>\n",
       "      <th>5598</th>\n",
       "      <td>103266</td>\n",
       "      <td>посох</td>\n",
       "      <td>лук</td>\n",
       "      <td>лук</td>\n",
       "      <td>лук</td>\n",
       "      <td>23.89</td>\n",
       "      <td>before</td>\n",
       "    </tr>\n",
       "    <tr>\n",
       "      <th>217</th>\n",
       "      <td>108721</td>\n",
       "      <td>меч</td>\n",
       "      <td>топор</td>\n",
       "      <td>булава</td>\n",
       "      <td>булава</td>\n",
       "      <td>15.94</td>\n",
       "      <td>before</td>\n",
       "    </tr>\n",
       "    <tr>\n",
       "      <th>3621</th>\n",
       "      <td>109156</td>\n",
       "      <td>булава</td>\n",
       "      <td>булава</td>\n",
       "      <td>меч</td>\n",
       "      <td>лук</td>\n",
       "      <td>15.89</td>\n",
       "      <td>before</td>\n",
       "    </tr>\n",
       "    <tr>\n",
       "      <th>2681</th>\n",
       "      <td>111066</td>\n",
       "      <td>булава</td>\n",
       "      <td>лук</td>\n",
       "      <td>лук</td>\n",
       "      <td>посох</td>\n",
       "      <td>19.44</td>\n",
       "      <td>before</td>\n",
       "    </tr>\n",
       "  </tbody>\n",
       "</table>\n",
       "</div>"
      ],
      "text/plain": [
       "      battle_id  unit_1  unit_2  unit_3  unit_4    len balance_mark\n",
       "2532     106850     меч  булава     лук  булава  24.82       before\n",
       "5598     103266   посох     лук     лук     лук  23.89       before\n",
       "217      108721     меч   топор  булава  булава  15.94       before\n",
       "3621     109156  булава  булава     меч     лук  15.89       before\n",
       "2681     111066  булава     лук     лук   посох  19.44       before"
      ]
     },
     "metadata": {},
     "output_type": "display_data"
    },
    {
     "name": "stdout",
     "output_type": "stream",
     "text": [
      "\n",
      "Уникальные значения колонки по каждой из позиций unit_1:\n",
      "меч       2045\n",
      "булава    2031\n",
      "посох     2019\n",
      "топор     1989\n",
      "лук       1916\n",
      "Name: unit_1, dtype: int64\n"
     ]
    },
    {
     "data": {
      "image/png": "[encoded data removed]",
      "text/plain": [
       "<Figure size 432x288 with 1 Axes>"
      ]
     },
     "metadata": {
      "needs_background": "light"
     },
     "output_type": "display_data"
    },
    {
     "name": "stdout",
     "output_type": "stream",
     "text": [
      "Уникальные значения колонки по каждой из позиций unit_2:\n",
      "булава    2060\n",
      "топор     2030\n",
      "меч       2004\n",
      "лук       1983\n",
      "посох     1923\n",
      "Name: unit_2, dtype: int64\n"
     ]
    },
    {
     "data": {
      "image/png": "[encoded data removed]",
      "text/plain": [
       "<Figure size 432x288 with 1 Axes>"
      ]
     },
     "metadata": {
      "needs_background": "light"
     },
     "output_type": "display_data"
    },
    {
     "name": "stdout",
     "output_type": "stream",
     "text": [
      "Уникальные значения колонки по каждой из позиций unit_3:\n",
      "лук       2051\n",
      "булава    2024\n",
      "меч       2012\n",
      "топор     1974\n",
      "посох     1939\n",
      "Name: unit_3, dtype: int64\n"
     ]
    },
    {
     "data": {
      "image/png": "[encoded data removed]",
      "text/plain": [
       "<Figure size 432x288 with 1 Axes>"
      ]
     },
     "metadata": {
      "needs_background": "light"
     },
     "output_type": "display_data"
    },
    {
     "name": "stdout",
     "output_type": "stream",
     "text": [
      "\n",
      "--------------------------------------------------------------------------------\n",
      "********************************************************************************\n",
      "--------------------------------------------------------------------------------\n",
      "\n"
     ]
    }
   ],
   "source": [
    "explore_data(temp_a)"
   ]
  },
  {
   "cell_type": "markdown",
   "id": "293a8260",
   "metadata": {},
   "source": [
    "**Предварительный осмотр данных после внесения изменений**:"
   ]
  },
  {
   "cell_type": "code",
   "execution_count": 9,
   "id": "32fd0a58",
   "metadata": {},
   "outputs": [
    {
     "name": "stdout",
     "output_type": "stream",
     "text": [
      "Общая информация о датафрейме:\n",
      "\n",
      "<class 'pandas.core.frame.DataFrame'>\n",
      "Int64Index: 10000 entries, 10000 to 19999\n",
      "Data columns (total 7 columns):\n",
      " #   Column        Non-Null Count  Dtype  \n",
      "---  ------        --------------  -----  \n",
      " 0   battle_id     10000 non-null  int64  \n",
      " 1   unit_1        10000 non-null  object \n",
      " 2   unit_2        10000 non-null  object \n",
      " 3   unit_3        10000 non-null  object \n",
      " 4   unit_4        10000 non-null  object \n",
      " 5   len           10000 non-null  float64\n",
      " 6   balance_mark  10000 non-null  object \n",
      "dtypes: float64(1), int64(1), object(5)\n",
      "memory usage: 625.0+ KB\n"
     ]
    },
    {
     "data": {
      "text/plain": [
       "None"
      ]
     },
     "metadata": {},
     "output_type": "display_data"
    },
    {
     "name": "stdout",
     "output_type": "stream",
     "text": [
      "\n",
      "В датафрейме 0 полных дупликатов, что составляет- 0.0%.\n",
      "\n",
      "Рассмотрим первые 5 строк датафрейма:\n",
      "\n"
     ]
    },
    {
     "data": {
      "text/html": [
       "<div>\n",
       "<style scoped>\n",
       "    .dataframe tbody tr th:only-of-type {\n",
       "        vertical-align: middle;\n",
       "    }\n",
       "\n",
       "    .dataframe tbody tr th {\n",
       "        vertical-align: top;\n",
       "    }\n",
       "\n",
       "    .dataframe thead th {\n",
       "        text-align: right;\n",
       "    }\n",
       "</style>\n",
       "<table border=\"1\" class=\"dataframe\">\n",
       "  <thead>\n",
       "    <tr style=\"text-align: right;\">\n",
       "      <th></th>\n",
       "      <th>battle_id</th>\n",
       "      <th>unit_1</th>\n",
       "      <th>unit_2</th>\n",
       "      <th>unit_3</th>\n",
       "      <th>unit_4</th>\n",
       "      <th>len</th>\n",
       "      <th>balance_mark</th>\n",
       "    </tr>\n",
       "  </thead>\n",
       "  <tbody>\n",
       "    <tr>\n",
       "      <th>10000</th>\n",
       "      <td>103978</td>\n",
       "      <td>меч</td>\n",
       "      <td>булава</td>\n",
       "      <td>меч</td>\n",
       "      <td>булава</td>\n",
       "      <td>23.30</td>\n",
       "      <td>after</td>\n",
       "    </tr>\n",
       "    <tr>\n",
       "      <th>10001</th>\n",
       "      <td>108601</td>\n",
       "      <td>посох</td>\n",
       "      <td>топор</td>\n",
       "      <td>булава</td>\n",
       "      <td>топор</td>\n",
       "      <td>27.12</td>\n",
       "      <td>after</td>\n",
       "    </tr>\n",
       "    <tr>\n",
       "      <th>10002</th>\n",
       "      <td>112054</td>\n",
       "      <td>лук</td>\n",
       "      <td>булава</td>\n",
       "      <td>лук</td>\n",
       "      <td>лук</td>\n",
       "      <td>26.06</td>\n",
       "      <td>after</td>\n",
       "    </tr>\n",
       "    <tr>\n",
       "      <th>10003</th>\n",
       "      <td>119433</td>\n",
       "      <td>посох</td>\n",
       "      <td>посох</td>\n",
       "      <td>лук</td>\n",
       "      <td>булава</td>\n",
       "      <td>22.76</td>\n",
       "      <td>after</td>\n",
       "    </tr>\n",
       "    <tr>\n",
       "      <th>10004</th>\n",
       "      <td>119938</td>\n",
       "      <td>меч</td>\n",
       "      <td>посох</td>\n",
       "      <td>топор</td>\n",
       "      <td>посох</td>\n",
       "      <td>28.40</td>\n",
       "      <td>after</td>\n",
       "    </tr>\n",
       "  </tbody>\n",
       "</table>\n",
       "</div>"
      ],
      "text/plain": [
       "       battle_id unit_1  unit_2  unit_3  unit_4    len balance_mark\n",
       "10000     103978    меч  булава     меч  булава  23.30        after\n",
       "10001     108601  посох   топор  булава   топор  27.12        after\n",
       "10002     112054    лук  булава     лук     лук  26.06        after\n",
       "10003     119433  посох   посох     лук  булава  22.76        after\n",
       "10004     119938    меч   посох   топор   посох  28.40        after"
      ]
     },
     "metadata": {},
     "output_type": "display_data"
    },
    {
     "name": "stdout",
     "output_type": "stream",
     "text": [
      "\n",
      "Рассмотрим последние 5 строк датафрейма:\n"
     ]
    },
    {
     "data": {
      "text/html": [
       "<div>\n",
       "<style scoped>\n",
       "    .dataframe tbody tr th:only-of-type {\n",
       "        vertical-align: middle;\n",
       "    }\n",
       "\n",
       "    .dataframe tbody tr th {\n",
       "        vertical-align: top;\n",
       "    }\n",
       "\n",
       "    .dataframe thead th {\n",
       "        text-align: right;\n",
       "    }\n",
       "</style>\n",
       "<table border=\"1\" class=\"dataframe\">\n",
       "  <thead>\n",
       "    <tr style=\"text-align: right;\">\n",
       "      <th></th>\n",
       "      <th>battle_id</th>\n",
       "      <th>unit_1</th>\n",
       "      <th>unit_2</th>\n",
       "      <th>unit_3</th>\n",
       "      <th>unit_4</th>\n",
       "      <th>len</th>\n",
       "      <th>balance_mark</th>\n",
       "    </tr>\n",
       "  </thead>\n",
       "  <tbody>\n",
       "    <tr>\n",
       "      <th>19995</th>\n",
       "      <td>108834</td>\n",
       "      <td>посох</td>\n",
       "      <td>булава</td>\n",
       "      <td>лук</td>\n",
       "      <td>посох</td>\n",
       "      <td>26.37</td>\n",
       "      <td>after</td>\n",
       "    </tr>\n",
       "    <tr>\n",
       "      <th>19996</th>\n",
       "      <td>119941</td>\n",
       "      <td>посох</td>\n",
       "      <td>меч</td>\n",
       "      <td>лук</td>\n",
       "      <td>посох</td>\n",
       "      <td>23.73</td>\n",
       "      <td>after</td>\n",
       "    </tr>\n",
       "    <tr>\n",
       "      <th>19997</th>\n",
       "      <td>112911</td>\n",
       "      <td>топор</td>\n",
       "      <td>посох</td>\n",
       "      <td>булава</td>\n",
       "      <td>топор</td>\n",
       "      <td>27.73</td>\n",
       "      <td>after</td>\n",
       "    </tr>\n",
       "    <tr>\n",
       "      <th>19998</th>\n",
       "      <td>111684</td>\n",
       "      <td>меч</td>\n",
       "      <td>топор</td>\n",
       "      <td>посох</td>\n",
       "      <td>меч</td>\n",
       "      <td>24.20</td>\n",
       "      <td>after</td>\n",
       "    </tr>\n",
       "    <tr>\n",
       "      <th>19999</th>\n",
       "      <td>103437</td>\n",
       "      <td>лук</td>\n",
       "      <td>лук</td>\n",
       "      <td>булава</td>\n",
       "      <td>булава</td>\n",
       "      <td>22.83</td>\n",
       "      <td>after</td>\n",
       "    </tr>\n",
       "  </tbody>\n",
       "</table>\n",
       "</div>"
      ],
      "text/plain": [
       "       battle_id unit_1  unit_2  unit_3  unit_4    len balance_mark\n",
       "19995     108834  посох  булава     лук   посох  26.37        after\n",
       "19996     119941  посох     меч     лук   посох  23.73        after\n",
       "19997     112911  топор   посох  булава   топор  27.73        after\n",
       "19998     111684    меч   топор   посох     меч  24.20        after\n",
       "19999     103437    лук     лук  булава  булава  22.83        after"
      ]
     },
     "metadata": {},
     "output_type": "display_data"
    },
    {
     "name": "stdout",
     "output_type": "stream",
     "text": [
      "\n",
      "Рассмотрим выборочно 5 строк:\n",
      "\n"
     ]
    },
    {
     "data": {
      "text/html": [
       "<div>\n",
       "<style scoped>\n",
       "    .dataframe tbody tr th:only-of-type {\n",
       "        vertical-align: middle;\n",
       "    }\n",
       "\n",
       "    .dataframe tbody tr th {\n",
       "        vertical-align: top;\n",
       "    }\n",
       "\n",
       "    .dataframe thead th {\n",
       "        text-align: right;\n",
       "    }\n",
       "</style>\n",
       "<table border=\"1\" class=\"dataframe\">\n",
       "  <thead>\n",
       "    <tr style=\"text-align: right;\">\n",
       "      <th></th>\n",
       "      <th>battle_id</th>\n",
       "      <th>unit_1</th>\n",
       "      <th>unit_2</th>\n",
       "      <th>unit_3</th>\n",
       "      <th>unit_4</th>\n",
       "      <th>len</th>\n",
       "      <th>balance_mark</th>\n",
       "    </tr>\n",
       "  </thead>\n",
       "  <tbody>\n",
       "    <tr>\n",
       "      <th>18904</th>\n",
       "      <td>103821</td>\n",
       "      <td>топор</td>\n",
       "      <td>лук</td>\n",
       "      <td>булава</td>\n",
       "      <td>посох</td>\n",
       "      <td>28.38</td>\n",
       "      <td>after</td>\n",
       "    </tr>\n",
       "    <tr>\n",
       "      <th>16490</th>\n",
       "      <td>115440</td>\n",
       "      <td>посох</td>\n",
       "      <td>топор</td>\n",
       "      <td>булава</td>\n",
       "      <td>меч</td>\n",
       "      <td>22.13</td>\n",
       "      <td>after</td>\n",
       "    </tr>\n",
       "    <tr>\n",
       "      <th>11849</th>\n",
       "      <td>104090</td>\n",
       "      <td>топор</td>\n",
       "      <td>лук</td>\n",
       "      <td>меч</td>\n",
       "      <td>меч</td>\n",
       "      <td>21.48</td>\n",
       "      <td>after</td>\n",
       "    </tr>\n",
       "    <tr>\n",
       "      <th>17858</th>\n",
       "      <td>108704</td>\n",
       "      <td>топор</td>\n",
       "      <td>посох</td>\n",
       "      <td>булава</td>\n",
       "      <td>топор</td>\n",
       "      <td>27.69</td>\n",
       "      <td>after</td>\n",
       "    </tr>\n",
       "    <tr>\n",
       "      <th>14947</th>\n",
       "      <td>101392</td>\n",
       "      <td>лук</td>\n",
       "      <td>посох</td>\n",
       "      <td>меч</td>\n",
       "      <td>посох</td>\n",
       "      <td>25.73</td>\n",
       "      <td>after</td>\n",
       "    </tr>\n",
       "  </tbody>\n",
       "</table>\n",
       "</div>"
      ],
      "text/plain": [
       "       battle_id unit_1 unit_2  unit_3 unit_4    len balance_mark\n",
       "18904     103821  топор    лук  булава  посох  28.38        after\n",
       "16490     115440  посох  топор  булава    меч  22.13        after\n",
       "11849     104090  топор    лук     меч    меч  21.48        after\n",
       "17858     108704  топор  посох  булава  топор  27.69        after\n",
       "14947     101392    лук  посох     меч  посох  25.73        after"
      ]
     },
     "metadata": {},
     "output_type": "display_data"
    },
    {
     "name": "stdout",
     "output_type": "stream",
     "text": [
      "\n",
      "Уникальные значения колонки по каждой из позиций unit_1:\n",
      "лук       2066\n",
      "топор     2043\n",
      "меч       2008\n",
      "булава    1995\n",
      "посох     1888\n",
      "Name: unit_1, dtype: int64\n"
     ]
    },
    {
     "data": {
      "image/png": "[encoded data removed]",
      "text/plain": [
       "<Figure size 432x288 with 1 Axes>"
      ]
     },
     "metadata": {
      "needs_background": "light"
     },
     "output_type": "display_data"
    },
    {
     "name": "stdout",
     "output_type": "stream",
     "text": [
      "Уникальные значения колонки по каждой из позиций unit_2:\n",
      "булава    2071\n",
      "лук       2000\n",
      "меч       1997\n",
      "посох     1967\n",
      "топор     1965\n",
      "Name: unit_2, dtype: int64\n"
     ]
    },
    {
     "data": {
      "image/png": "[encoded data removed]",
      "text/plain": [
       "<Figure size 432x288 with 1 Axes>"
      ]
     },
     "metadata": {
      "needs_background": "light"
     },
     "output_type": "display_data"
    },
    {
     "name": "stdout",
     "output_type": "stream",
     "text": [
      "Уникальные значения колонки по каждой из позиций unit_3:\n",
      "булава    2044\n",
      "меч       2013\n",
      "посох     2003\n",
      "лук       1975\n",
      "топор     1965\n",
      "Name: unit_3, dtype: int64\n"
     ]
    },
    {
     "data": {
      "image/png": "[encoded data removed]",
      "text/plain": [
       "<Figure size 432x288 with 1 Axes>"
      ]
     },
     "metadata": {
      "needs_background": "light"
     },
     "output_type": "display_data"
    },
    {
     "name": "stdout",
     "output_type": "stream",
     "text": [
      "\n",
      "--------------------------------------------------------------------------------\n",
      "********************************************************************************\n",
      "--------------------------------------------------------------------------------\n",
      "\n"
     ]
    }
   ],
   "source": [
    "explore_data(temp_b)"
   ]
  },
  {
   "cell_type": "markdown",
   "id": "94d6d2a2",
   "metadata": {},
   "source": [
    "<div style=\"font-size: 20px\">\n",
    "    \n",
    "**Промежуточные выводы:**"
   ]
  },
  {
   "cell_type": "markdown",
   "id": "08a466d8",
   "metadata": {},
   "source": [
    "Предварительныцй осмотр датасета позволяет отметить следующее:\n",
    "\n",
    "1) данные описаны 20 000 строками и 7 колонками датасета, включающими сведения об уникальном id боя, типе оружия каждого бойца(для каждого из 4), длительности боя, а также о моменте сбора данных боя(до или после изменения баланса оружия);\n",
    "\n",
    "2) полные дубликаты, пропуски, опечатки отсутствуют предобработка в указанной части не требуется;"
   ]
  },
  {
   "cell_type": "markdown",
   "id": "546e598b",
   "metadata": {},
   "source": [
    "<div style=\"font-size: 20px\">\n",
    "    \n",
    "**2. Выделение подгрупп**"
   ]
  },
  {
   "cell_type": "markdown",
   "id": "530acebf",
   "metadata": {},
   "source": [
    "Полагаю, что для корректного анализа наличия/отсутствия именения продолжительности сессии пользователей после внесения изменений в баланс оружия, **следует сравнивать не только данные всего датасета, но и конкретно по каждой группе пользователей**. Для выделения групп пользователей воспользуемся методом кластеризации **K-Means**, предварительно преобразовав категориальные данные в численные методом **One-hot encoding**."
   ]
  },
  {
   "cell_type": "code",
   "execution_count": 10,
   "id": "db69ae28",
   "metadata": {},
   "outputs": [
    {
     "data": {
      "text/plain": [
       "'Основные показатели колонки len, для данных до изменения баланса оружия'"
      ]
     },
     "metadata": {},
     "output_type": "display_data"
    },
    {
     "data": {
      "text/plain": [
       "count    10000.00\n",
       "mean        19.97\n",
       "std          2.88\n",
       "min         15.00\n",
       "25%         17.51\n",
       "50%         19.96\n",
       "75%         22.46\n",
       "max         25.00\n",
       "Name: len, dtype: float64"
      ]
     },
     "metadata": {},
     "output_type": "display_data"
    }
   ],
   "source": [
    "# Посмотрим общие сведения относительно продолжительности сессии групп до и после изменений\n",
    "# без выделения подгрупп в зависимости от комбинации использованного оружия\n",
    "display('Основные показатели колонки len, для данных до изменения баланса оружия',round(temp_a['len'].describe().T, 2))"
   ]
  },
  {
   "cell_type": "code",
   "execution_count": 11,
   "id": "f28acab9",
   "metadata": {},
   "outputs": [
    {
     "data": {
      "text/plain": [
       "'Основные показатели колонки len, для данных после изменения баланса оружия'"
      ]
     },
     "metadata": {},
     "output_type": "display_data"
    },
    {
     "data": {
      "text/plain": [
       "count    10000.00\n",
       "mean        24.12\n",
       "std          3.80\n",
       "min          5.01\n",
       "25%         21.71\n",
       "50%         24.30\n",
       "75%         27.09\n",
       "max         30.00\n",
       "Name: len, dtype: float64"
      ]
     },
     "metadata": {},
     "output_type": "display_data"
    }
   ],
   "source": [
    "display('Основные показатели колонки len, для данных после изменения баланса оружия',round(temp_b['len'].describe().T, 2))"
   ]
  },
  {
   "cell_type": "markdown",
   "id": "a0198a62",
   "metadata": {},
   "source": [
    "<div style=\"font-size: 15px\">\n",
    "    \n",
    "**Выводы:**"
   ]
  },
  {
   "cell_type": "markdown",
   "id": "19d82b62",
   "metadata": {},
   "source": [
    "В результате сравнения показателей выборок до и после изменения баланса оружия (до выделения подгрупп), можно отметить следующее:\n",
    "\n",
    "1) средняя и максимальна продолжительнось сессий увеличились(на 4-5 минут.);\n",
    "\n",
    "2) стандартное отклонение увеличилось, примерно, на 1 минуту;\n",
    "\n",
    "3) произошло увеличение значений всех кванитлей на 4-5 минут;\n",
    "\n",
    "4) в три раза снизилось минимальная продолжительность сессии(с 15 до 5 минут)."
   ]
  },
  {
   "cell_type": "markdown",
   "id": "b045c3e6",
   "metadata": {},
   "source": [
    "**Определим оптимальное количество кластеров методом \"Локтя\" (Elbow method)**"
   ]
  },
  {
   "cell_type": "markdown",
   "id": "08bc6e20",
   "metadata": {},
   "source": [
    "Поскольку у нас имеются смешанные данные(категориальные и числовые), применение метода \"Локтя\" напрямую невозможно. Для осуществления дальнейшей кластеризации необходимо преобразовать категориальные данные используя метод OHE."
   ]
  },
  {
   "cell_type": "code",
   "execution_count": 12,
   "id": "b18c369d",
   "metadata": {},
   "outputs": [
    {
     "data": {
      "text/html": [
       "<div>\n",
       "<style scoped>\n",
       "    .dataframe tbody tr th:only-of-type {\n",
       "        vertical-align: middle;\n",
       "    }\n",
       "\n",
       "    .dataframe tbody tr th {\n",
       "        vertical-align: top;\n",
       "    }\n",
       "\n",
       "    .dataframe thead th {\n",
       "        text-align: right;\n",
       "    }\n",
       "</style>\n",
       "<table border=\"1\" class=\"dataframe\">\n",
       "  <thead>\n",
       "    <tr style=\"text-align: right;\">\n",
       "      <th></th>\n",
       "      <th>battle_id</th>\n",
       "      <th>len</th>\n",
       "      <th>unit_1_булава</th>\n",
       "      <th>unit_1_лук</th>\n",
       "      <th>unit_1_меч</th>\n",
       "      <th>unit_1_посох</th>\n",
       "      <th>unit_1_топор</th>\n",
       "      <th>unit_2_булава</th>\n",
       "      <th>unit_2_лук</th>\n",
       "      <th>unit_2_меч</th>\n",
       "      <th>...</th>\n",
       "      <th>unit_3_меч</th>\n",
       "      <th>unit_3_посох</th>\n",
       "      <th>unit_3_топор</th>\n",
       "      <th>unit_4_булава</th>\n",
       "      <th>unit_4_лук</th>\n",
       "      <th>unit_4_меч</th>\n",
       "      <th>unit_4_посох</th>\n",
       "      <th>unit_4_топор</th>\n",
       "      <th>balance_mark_after</th>\n",
       "      <th>balance_mark_before</th>\n",
       "    </tr>\n",
       "  </thead>\n",
       "  <tbody>\n",
       "    <tr>\n",
       "      <th>3697</th>\n",
       "      <td>105379</td>\n",
       "      <td>17.46</td>\n",
       "      <td>1</td>\n",
       "      <td>0</td>\n",
       "      <td>0</td>\n",
       "      <td>0</td>\n",
       "      <td>0</td>\n",
       "      <td>0</td>\n",
       "      <td>0</td>\n",
       "      <td>0</td>\n",
       "      <td>...</td>\n",
       "      <td>0</td>\n",
       "      <td>0</td>\n",
       "      <td>0</td>\n",
       "      <td>0</td>\n",
       "      <td>0</td>\n",
       "      <td>0</td>\n",
       "      <td>0</td>\n",
       "      <td>1</td>\n",
       "      <td>0</td>\n",
       "      <td>1</td>\n",
       "    </tr>\n",
       "    <tr>\n",
       "      <th>16679</th>\n",
       "      <td>108518</td>\n",
       "      <td>26.25</td>\n",
       "      <td>0</td>\n",
       "      <td>0</td>\n",
       "      <td>0</td>\n",
       "      <td>1</td>\n",
       "      <td>0</td>\n",
       "      <td>1</td>\n",
       "      <td>0</td>\n",
       "      <td>0</td>\n",
       "      <td>...</td>\n",
       "      <td>0</td>\n",
       "      <td>0</td>\n",
       "      <td>0</td>\n",
       "      <td>0</td>\n",
       "      <td>0</td>\n",
       "      <td>0</td>\n",
       "      <td>0</td>\n",
       "      <td>1</td>\n",
       "      <td>1</td>\n",
       "      <td>0</td>\n",
       "    </tr>\n",
       "    <tr>\n",
       "      <th>5871</th>\n",
       "      <td>105640</td>\n",
       "      <td>23.45</td>\n",
       "      <td>0</td>\n",
       "      <td>0</td>\n",
       "      <td>1</td>\n",
       "      <td>0</td>\n",
       "      <td>0</td>\n",
       "      <td>0</td>\n",
       "      <td>0</td>\n",
       "      <td>0</td>\n",
       "      <td>...</td>\n",
       "      <td>1</td>\n",
       "      <td>0</td>\n",
       "      <td>0</td>\n",
       "      <td>0</td>\n",
       "      <td>0</td>\n",
       "      <td>0</td>\n",
       "      <td>0</td>\n",
       "      <td>1</td>\n",
       "      <td>0</td>\n",
       "      <td>1</td>\n",
       "    </tr>\n",
       "    <tr>\n",
       "      <th>3686</th>\n",
       "      <td>111476</td>\n",
       "      <td>20.32</td>\n",
       "      <td>1</td>\n",
       "      <td>0</td>\n",
       "      <td>0</td>\n",
       "      <td>0</td>\n",
       "      <td>0</td>\n",
       "      <td>0</td>\n",
       "      <td>0</td>\n",
       "      <td>0</td>\n",
       "      <td>...</td>\n",
       "      <td>0</td>\n",
       "      <td>0</td>\n",
       "      <td>0</td>\n",
       "      <td>0</td>\n",
       "      <td>0</td>\n",
       "      <td>1</td>\n",
       "      <td>0</td>\n",
       "      <td>0</td>\n",
       "      <td>0</td>\n",
       "      <td>1</td>\n",
       "    </tr>\n",
       "    <tr>\n",
       "      <th>6772</th>\n",
       "      <td>107492</td>\n",
       "      <td>16.03</td>\n",
       "      <td>0</td>\n",
       "      <td>0</td>\n",
       "      <td>0</td>\n",
       "      <td>1</td>\n",
       "      <td>0</td>\n",
       "      <td>0</td>\n",
       "      <td>0</td>\n",
       "      <td>0</td>\n",
       "      <td>...</td>\n",
       "      <td>0</td>\n",
       "      <td>1</td>\n",
       "      <td>0</td>\n",
       "      <td>1</td>\n",
       "      <td>0</td>\n",
       "      <td>0</td>\n",
       "      <td>0</td>\n",
       "      <td>0</td>\n",
       "      <td>0</td>\n",
       "      <td>1</td>\n",
       "    </tr>\n",
       "  </tbody>\n",
       "</table>\n",
       "<p>5 rows × 24 columns</p>\n",
       "</div>"
      ],
      "text/plain": [
       "       battle_id    len  unit_1_булава  unit_1_лук  unit_1_меч  unit_1_посох  \\\n",
       "3697      105379  17.46              1           0           0             0   \n",
       "16679     108518  26.25              0           0           0             1   \n",
       "5871      105640  23.45              0           0           1             0   \n",
       "3686      111476  20.32              1           0           0             0   \n",
       "6772      107492  16.03              0           0           0             1   \n",
       "\n",
       "       unit_1_топор  unit_2_булава  unit_2_лук  unit_2_меч  ...  unit_3_меч  \\\n",
       "3697              0              0           0           0  ...           0   \n",
       "16679             0              1           0           0  ...           0   \n",
       "5871              0              0           0           0  ...           1   \n",
       "3686              0              0           0           0  ...           0   \n",
       "6772              0              0           0           0  ...           0   \n",
       "\n",
       "       unit_3_посох  unit_3_топор  unit_4_булава  unit_4_лук  unit_4_меч  \\\n",
       "3697              0             0              0           0           0   \n",
       "16679             0             0              0           0           0   \n",
       "5871              0             0              0           0           0   \n",
       "3686              0             0              0           0           1   \n",
       "6772              1             0              1           0           0   \n",
       "\n",
       "       unit_4_посох  unit_4_топор  balance_mark_after  balance_mark_before  \n",
       "3697              0             1                   0                    1  \n",
       "16679             0             1                   1                    0  \n",
       "5871              0             1                   0                    1  \n",
       "3686              0             0                   0                    1  \n",
       "6772              0             0                   0                    1  \n",
       "\n",
       "[5 rows x 24 columns]"
      ]
     },
     "execution_count": 12,
     "metadata": {},
     "output_type": "execute_result"
    }
   ],
   "source": [
    "# OHE для датасета до изменения баланса оружия\n",
    "df_new = pd.get_dummies(df, prefix=None, prefix_sep='_', dummy_na=False, columns=None, sparse=False, drop_first=False, dtype=None)\n",
    "\n",
    "df_new.sample(5)"
   ]
  },
  {
   "cell_type": "code",
   "execution_count": 13,
   "id": "6bee4e06",
   "metadata": {
    "scrolled": true
   },
   "outputs": [
    {
     "data": {
      "image/png": "[encoded data removed]",
      "text/plain": [
       "<Figure size 576x360 with 1 Axes>"
      ]
     },
     "metadata": {
      "needs_background": "light"
     },
     "output_type": "display_data"
    }
   ],
   "source": [
    "def elbow_meth(data):\n",
    "    distortion = []\n",
    "    K = range(1,10)\n",
    "\n",
    "    for k in K:\n",
    "        model = KMeans(n_clusters=k, random_state=12345)\n",
    "        model.fit(data)\n",
    "        distortion.append(model.inertia_)\n",
    "    \n",
    "    # Визуализируем показатели\n",
    "    plt.figure(figsize=(8,5))\n",
    "    plt.plot(K, distortion, 'bx-')\n",
    "    plt.xlabel('Number pf clusters')\n",
    "    plt.ylabel('Inertia')\n",
    "    plt.title('Elbow method')\n",
    "    plt.show()\n",
    "\n",
    "elbow_meth(df_new)"
   ]
  },
  {
   "cell_type": "markdown",
   "id": "640477d5",
   "metadata": {},
   "source": [
    "Исходя изграфиков метода \"Локтя\", как для данных до изменения баланса, так и после целесообразно использовать деление на **три кластера**. Выведим наиболее **характерные признаки** каждого из класторов."
   ]
  },
  {
   "cell_type": "code",
   "execution_count": 14,
   "id": "a8ca29d3",
   "metadata": {},
   "outputs": [
    {
     "name": "stdout",
     "output_type": "stream",
     "text": [
      "Типичный представитель сегментов для 3-х кластеров:\n",
      "[[1.10002e+05 2.20000e+01 0.00000e+00 0.00000e+00 0.00000e+00 0.00000e+00\n",
      "  0.00000e+00 0.00000e+00 0.00000e+00 0.00000e+00 0.00000e+00 0.00000e+00\n",
      "  0.00000e+00 0.00000e+00 0.00000e+00 0.00000e+00 0.00000e+00 0.00000e+00\n",
      "  0.00000e+00 0.00000e+00 0.00000e+00 0.00000e+00 0.00000e+00 1.00000e+00]\n",
      " [1.16669e+05 2.20000e+01 0.00000e+00 0.00000e+00 0.00000e+00 0.00000e+00\n",
      "  0.00000e+00 0.00000e+00 0.00000e+00 0.00000e+00 0.00000e+00 0.00000e+00\n",
      "  0.00000e+00 0.00000e+00 0.00000e+00 0.00000e+00 0.00000e+00 0.00000e+00\n",
      "  0.00000e+00 0.00000e+00 0.00000e+00 0.00000e+00 0.00000e+00 1.00000e+00]\n",
      " [1.03333e+05 2.20000e+01 0.00000e+00 0.00000e+00 0.00000e+00 0.00000e+00\n",
      "  0.00000e+00 0.00000e+00 0.00000e+00 0.00000e+00 0.00000e+00 0.00000e+00\n",
      "  0.00000e+00 0.00000e+00 0.00000e+00 0.00000e+00 0.00000e+00 0.00000e+00\n",
      "  0.00000e+00 0.00000e+00 0.00000e+00 0.00000e+00 1.00000e+00 0.00000e+00]]\n"
     ]
    }
   ],
   "source": [
    "# Типичный представитель\n",
    "model = KMeans(n_clusters=3, random_state=12345)\n",
    "model.fit(df_new)\n",
    "print(\"Типичный представитель сегментов для 3-х кластеров:\")\n",
    "print(model.cluster_centers_.round())"
   ]
  },
  {
   "cell_type": "code",
   "execution_count": 15,
   "id": "508b4a62",
   "metadata": {},
   "outputs": [
    {
     "data": {
      "text/html": [
       "<div>\n",
       "<style scoped>\n",
       "    .dataframe tbody tr th:only-of-type {\n",
       "        vertical-align: middle;\n",
       "    }\n",
       "\n",
       "    .dataframe tbody tr th {\n",
       "        vertical-align: top;\n",
       "    }\n",
       "\n",
       "    .dataframe thead th {\n",
       "        text-align: right;\n",
       "    }\n",
       "</style>\n",
       "<table border=\"1\" class=\"dataframe\">\n",
       "  <thead>\n",
       "    <tr style=\"text-align: right;\">\n",
       "      <th></th>\n",
       "      <th>battle_id</th>\n",
       "      <th>unit_1</th>\n",
       "      <th>unit_2</th>\n",
       "      <th>unit_3</th>\n",
       "      <th>unit_4</th>\n",
       "      <th>len</th>\n",
       "      <th>balance_mark</th>\n",
       "      <th>cluster</th>\n",
       "    </tr>\n",
       "  </thead>\n",
       "  <tbody>\n",
       "    <tr>\n",
       "      <th>3653</th>\n",
       "      <td>109488</td>\n",
       "      <td>булава</td>\n",
       "      <td>булава</td>\n",
       "      <td>лук</td>\n",
       "      <td>лук</td>\n",
       "      <td>24.78</td>\n",
       "      <td>before</td>\n",
       "      <td>0</td>\n",
       "    </tr>\n",
       "    <tr>\n",
       "      <th>8092</th>\n",
       "      <td>117045</td>\n",
       "      <td>посох</td>\n",
       "      <td>посох</td>\n",
       "      <td>меч</td>\n",
       "      <td>посох</td>\n",
       "      <td>23.28</td>\n",
       "      <td>before</td>\n",
       "      <td>1</td>\n",
       "    </tr>\n",
       "    <tr>\n",
       "      <th>18155</th>\n",
       "      <td>103523</td>\n",
       "      <td>меч</td>\n",
       "      <td>лук</td>\n",
       "      <td>топор</td>\n",
       "      <td>лук</td>\n",
       "      <td>23.69</td>\n",
       "      <td>after</td>\n",
       "      <td>2</td>\n",
       "    </tr>\n",
       "    <tr>\n",
       "      <th>634</th>\n",
       "      <td>112344</td>\n",
       "      <td>булава</td>\n",
       "      <td>топор</td>\n",
       "      <td>лук</td>\n",
       "      <td>топор</td>\n",
       "      <td>15.51</td>\n",
       "      <td>before</td>\n",
       "      <td>0</td>\n",
       "    </tr>\n",
       "    <tr>\n",
       "      <th>12591</th>\n",
       "      <td>116976</td>\n",
       "      <td>посох</td>\n",
       "      <td>посох</td>\n",
       "      <td>топор</td>\n",
       "      <td>лук</td>\n",
       "      <td>20.08</td>\n",
       "      <td>after</td>\n",
       "      <td>1</td>\n",
       "    </tr>\n",
       "  </tbody>\n",
       "</table>\n",
       "</div>"
      ],
      "text/plain": [
       "       battle_id  unit_1  unit_2 unit_3 unit_4    len balance_mark  cluster\n",
       "3653      109488  булава  булава    лук    лук  24.78       before        0\n",
       "8092      117045   посох   посох    меч  посох  23.28       before        1\n",
       "18155     103523     меч     лук  топор    лук  23.69        after        2\n",
       "634       112344  булава   топор    лук  топор  15.51       before        0\n",
       "12591     116976   посох   посох  топор    лук  20.08        after        1"
      ]
     },
     "execution_count": 15,
     "metadata": {},
     "output_type": "execute_result"
    }
   ],
   "source": [
    "pred = model.predict(df_new.iloc[:,:24])\n",
    "frame = pd.DataFrame(df)\n",
    "frame['cluster'] = pred\n",
    "frame.sample(5)"
   ]
  },
  {
   "cell_type": "code",
   "execution_count": 16,
   "id": "7d6a4073",
   "metadata": {},
   "outputs": [
    {
     "data": {
      "text/plain": [
       "2    6668\n",
       "0    6667\n",
       "1    6665\n",
       "Name: cluster, dtype: int64"
      ]
     },
     "execution_count": 16,
     "metadata": {},
     "output_type": "execute_result"
    }
   ],
   "source": [
    "frame['cluster'].value_counts()"
   ]
  },
  {
   "cell_type": "markdown",
   "id": "4d788dc3",
   "metadata": {},
   "source": [
    "<div style=\"font-size: 20px\">\n",
    "    \n",
    "**3. Анализ изменений в подгруппах:**"
   ]
  },
  {
   "cell_type": "code",
   "execution_count": 17,
   "id": "b663da5c",
   "metadata": {},
   "outputs": [],
   "source": [
    "# Проанализируем соответсвующие подгруппы до и после внсения изменений в баланс оружия\n",
    "temp_new_a = frame.query(\"balance_mark == 'before'\")\n",
    "\n",
    "temp_new_b = frame.query(\"balance_mark == 'after'\")\n",
    "\n",
    "clusters = {'0_before':temp_new_a.query(\"cluster==0\"),\n",
    "            '0_after':temp_new_b.query(\"cluster==0\"),\n",
    "            '1_before':temp_new_a.query(\"cluster==1\"),\n",
    "            '1_after':temp_new_b.query(\"cluster==1\"),\n",
    "            '2_before':temp_new_a.query(\"cluster==2\"),\n",
    "            '2_after':temp_new_b.query(\"cluster==2\")}"
   ]
  },
  {
   "cell_type": "code",
   "execution_count": 18,
   "id": "a61ac132",
   "metadata": {},
   "outputs": [
    {
     "name": "stdout",
     "output_type": "stream",
     "text": [
      "\n"
     ]
    },
    {
     "data": {
      "text/plain": [
       "'Основные показатели колонки len, для 0_before подгруппы до изменения баланса оружия'"
      ]
     },
     "metadata": {},
     "output_type": "display_data"
    },
    {
     "data": {
      "text/plain": [
       "count    3341.00\n",
       "mean       19.96\n",
       "std         2.86\n",
       "min        15.01\n",
       "25%        17.48\n",
       "50%        19.96\n",
       "75%        22.39\n",
       "max        25.00\n",
       "Name: len, dtype: float64"
      ]
     },
     "metadata": {},
     "output_type": "display_data"
    },
    {
     "name": "stdout",
     "output_type": "stream",
     "text": [
      "\n",
      "\n"
     ]
    },
    {
     "data": {
      "text/plain": [
       "'Основные показатели колонки len, для 0_after подгруппы до изменения баланса оружия'"
      ]
     },
     "metadata": {},
     "output_type": "display_data"
    },
    {
     "data": {
      "text/plain": [
       "count    3326.00\n",
       "mean       24.14\n",
       "std         3.69\n",
       "min         5.59\n",
       "25%        21.72\n",
       "50%        24.26\n",
       "75%        27.00\n",
       "max        29.98\n",
       "Name: len, dtype: float64"
      ]
     },
     "metadata": {},
     "output_type": "display_data"
    },
    {
     "name": "stdout",
     "output_type": "stream",
     "text": [
      "\n",
      "\n"
     ]
    },
    {
     "data": {
      "text/plain": [
       "'Основные показатели колонки len, для 1_before подгруппы до изменения баланса оружия'"
      ]
     },
     "metadata": {},
     "output_type": "display_data"
    },
    {
     "data": {
      "text/plain": [
       "count    3338.00\n",
       "mean       19.94\n",
       "std         2.92\n",
       "min        15.00\n",
       "25%        17.44\n",
       "50%        19.94\n",
       "75%        22.49\n",
       "max        25.00\n",
       "Name: len, dtype: float64"
      ]
     },
     "metadata": {},
     "output_type": "display_data"
    },
    {
     "name": "stdout",
     "output_type": "stream",
     "text": [
      "\n",
      "\n"
     ]
    },
    {
     "data": {
      "text/plain": [
       "'Основные показатели колонки len, для 1_after подгруппы до изменения баланса оружия'"
      ]
     },
     "metadata": {},
     "output_type": "display_data"
    },
    {
     "data": {
      "text/plain": [
       "count    3327.00\n",
       "mean       24.17\n",
       "std         3.89\n",
       "min         5.05\n",
       "25%        21.71\n",
       "50%        24.39\n",
       "75%        27.24\n",
       "max        30.00\n",
       "Name: len, dtype: float64"
      ]
     },
     "metadata": {},
     "output_type": "display_data"
    },
    {
     "name": "stdout",
     "output_type": "stream",
     "text": [
      "\n",
      "\n"
     ]
    },
    {
     "data": {
      "text/plain": [
       "'Основные показатели колонки len, для 2_before подгруппы до изменения баланса оружия'"
      ]
     },
     "metadata": {},
     "output_type": "display_data"
    },
    {
     "data": {
      "text/plain": [
       "count    3321.00\n",
       "mean       20.02\n",
       "std         2.85\n",
       "min        15.00\n",
       "25%        17.55\n",
       "50%        20.01\n",
       "75%        22.50\n",
       "max        25.00\n",
       "Name: len, dtype: float64"
      ]
     },
     "metadata": {},
     "output_type": "display_data"
    },
    {
     "name": "stdout",
     "output_type": "stream",
     "text": [
      "\n",
      "\n"
     ]
    },
    {
     "data": {
      "text/plain": [
       "'Основные показатели колонки len, для 2_after подгруппы до изменения баланса оружия'"
      ]
     },
     "metadata": {},
     "output_type": "display_data"
    },
    {
     "data": {
      "text/plain": [
       "count    3347.00\n",
       "mean       24.07\n",
       "std         3.82\n",
       "min         5.01\n",
       "25%        21.69\n",
       "50%        24.25\n",
       "75%        26.93\n",
       "max        29.99\n",
       "Name: len, dtype: float64"
      ]
     },
     "metadata": {},
     "output_type": "display_data"
    },
    {
     "name": "stdout",
     "output_type": "stream",
     "text": [
      "\n"
     ]
    },
    {
     "data": {
      "image/png": "[encoded data removed]",
      "text/plain": [
       "<Figure size 1440x360 with 1 Axes>"
      ]
     },
     "metadata": {
      "needs_background": "light"
     },
     "output_type": "display_data"
    },
    {
     "data": {
      "image/png": "[encoded data removed]",
      "text/plain": [
       "<Figure size 1440x360 with 1 Axes>"
      ]
     },
     "metadata": {
      "needs_background": "light"
     },
     "output_type": "display_data"
    },
    {
     "data": {
      "image/png": "[encoded data removed]",
      "text/plain": [
       "<Figure size 1440x360 with 1 Axes>"
      ]
     },
     "metadata": {
      "needs_background": "light"
     },
     "output_type": "display_data"
    }
   ],
   "source": [
    "\n",
    "\n",
    "def visual_subgroups(clusters):\n",
    "    # Рассмотрим основные показатели и визуализируем средние значения\n",
    "    for key, value in clusters.items():\n",
    "        print()\n",
    "        display(f'Основные показатели колонки len, для {key} подгруппы до изменения баланса оружия',round(value['len'].describe().T, 2))\n",
    "        print()\n",
    "    \n",
    "    # Boxplot\n",
    "    for i in range(3):\n",
    "        temp_1 = temp_new_a.query('cluster == @i')\n",
    "        temp_2 = temp_new_b.query('cluster == @i')\n",
    "        analize = pd.DataFrame({\n",
    "        'До внесения измениний':temp_1['len'],\n",
    "        'После внесения изменений':temp_2['len']})\n",
    "        plt.figure(figsize=(20,5))\n",
    "        sns.boxplot(data=analize, orient=\"h\")\n",
    "        plt.title(f'Распределение {i} подгруппы')\n",
    "        plt.show()\n",
    "     \n",
    "        \n",
    "visual_subgroups(clusters)"
   ]
  },
  {
   "cell_type": "markdown",
   "id": "2025abb2",
   "metadata": {},
   "source": [
    "<div style=\"font-size: 20px\">\n",
    "    \n",
    "**Итоговые выводы:**"
   ]
  },
  {
   "cell_type": "markdown",
   "id": "d1a499f8",
   "metadata": {},
   "source": [
    "Изменение баланса оружия привело к увеличению продолжительности боя на 4-5 минут. Кроме того, следует отметить, что:\n",
    "\n",
    "1) увеличился разброс значений каждой из выделенных в результате применения кластеризации подгрупп\n",
    "\n",
    "2) появились выбросы во всех подгруппах, а также сократилась минимальная продолжительность боя.\n",
    "\n",
    "На последний факт следует обратить особое внимание, поскольку он может свидетельствовать о том, что:\n",
    "\n",
    "а) в результате изменения баланса произошло усложнение прохождение боя пользователя, и он бросает играть на первых минутах, что в конечном счёте ведёт к оттоку пользователей\n",
    "\n",
    "б) произошло упрощение игры, что можно использовать для дополнительного усложнения в целях увеличения сессии пользователя"
   ]
  },
  {
   "cell_type": "markdown",
   "id": "1857a0c1",
   "metadata": {},
   "source": [
    "<div style=\"font-size: 20px\">\n",
    "    \n",
    "**Задача №3 - Вероятность получения полного сета**"
   ]
  },
  {
   "cell_type": "markdown",
   "id": "c33e8e08",
   "metadata": {},
   "source": [
    "P(S1) - вероятность выпадения предметов 1-го типа хотя бы раз\n",
    "\n",
    "P(S2) - вероятность выпадения предметов 2-го типа хотя бы раз\n",
    "\n",
    "P(S3) - вероятность выпадения предметов 3-го типа хотя бы раз\n",
    "\n",
    "n - число попыток достать предмет\n",
    "\n",
    "p - вероятность вытащить предмет 1-го типа в каждой из попыток(аналогично для 2-го и 3-его)\n",
    "\n",
    "k >= 1 - получиение хотя бы 1 раз предмет 1-го типа(аналогично для 2-го и 3-его)\n",
    "\n",
    "k = 0 - не получиение предмет 1-го типа ни разу (аналогично для 2-го и 3-его)\n",
    "\n",
    "P6(0) = (1/3)^0 * (1-1/3)^6 = (2/3)^6\n",
    "\n",
    "P(S1) = P6(k>=1) = 1 - P6(0) = 1-(2/3)^6 = 0.9122 - вероятность выпадения предмета 1-го типа хотя бы раз(аналогично для 2-го и 3-го типа)\n",
    "\n",
    "Итоговая вероятность: P(S1) * P(S2) * P(S3) = 0.9122 * 0.8683 * 0.8025 = 0.6356 = 64% "
   ]
  },
  {
   "cell_type": "code",
   "execution_count": null,
   "id": "2af636fb",
   "metadata": {},
   "outputs": [],
   "source": []
  }
 ],
 "metadata": {
  "kernelspec": {
   "display_name": "Python 3",
   "language": "python",
   "name": "python3"
  },
  "language_info": {
   "codemirror_mode": {
    "name": "ipython",
    "version": 3
   },
   "file_extension": ".py",
   "mimetype": "text/x-python",
   "name": "python",
   "nbconvert_exporter": "python",
   "pygments_lexer": "ipython3",
   "version": "3.8.8"
  }
 },
 "nbformat": 4,
 "nbformat_minor": 5
}
